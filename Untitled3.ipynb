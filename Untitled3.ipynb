{
  "nbformat": 4,
  "nbformat_minor": 0,
  "metadata": {
    "colab": {
      "provenance": [],
      "mount_file_id": "1ZAIVLm26tFPk_A-cOAk4bjb9J1olT_JY",
      "authorship_tag": "ABX9TyPFwrxtOmLBHOAj7atUNo+G",
      "include_colab_link": true
    },
    "kernelspec": {
      "name": "python3",
      "display_name": "Python 3"
    },
    "language_info": {
      "name": "python"
    }
  },
  "cells": [
    {
      "cell_type": "markdown",
      "metadata": {
        "id": "view-in-github",
        "colab_type": "text"
      },
      "source": [
        "<a href=\"https://colab.research.google.com/github/AnthonyDelaCruz16/Intro_to_Programming_Final_Assessment/blob/main/Untitled3.ipynb\" target=\"_parent\"><img src=\"https://colab.research.google.com/assets/colab-badge.svg\" alt=\"Open In Colab\"/></a>"
      ]
    },
    {
      "cell_type": "markdown",
      "source": [
        "Vending Machine Code Final Assessment"
      ],
      "metadata": {
        "id": "YZyCCDNLJexg"
      }
    },
    {
      "cell_type": "code",
      "execution_count": null,
      "metadata": {
        "id": "j3ojabVqHzvi"
      },
      "outputs": [],
      "source": [
        "\n",
        "# Define the menu items with codes and prices\n",
        "menu = {\n",
        "    'A1': {'item': 'Energy Bar', 'price': 3.75},\n",
        "    'A2': {'item': 'Lays', 'price': 1.50},\n",
        "    'A3': {'item': 'Corn Chips', 'price': 3.00},\n",
        "    'A4': {'item': 'Water', 'price': 2.00},\n",
        "    'B1': {'item': 'Juice', 'price': 2.00},\n",
        "    'B2': {'item': 'Chocolate', 'price': 1.50},\n",
        "    'B3': {'item': 'Dark Chocolate', 'price': 1.75},\n",
        "    'B4': {'item': 'White Chocolate', 'price': 2.25},\n",
        "}\n",
        "\n",
        "# Function to display the menu\n",
        "def display_menu():\n",
        "    print(\"==== Vending Machine Menu ====\")\n",
        "    for code, item_info in menu.items():\n",
        "        print(f\"{code}: {item_info['item']} - ${item_info['price']:.2f}\")\n",
        "\n",
        "# Function to process the user's selection\n",
        "def vending_machine():\n",
        "    display_menu()\n",
        "\n",
        "    # Take user input for item selection\n",
        "    while True:\n",
        "        code = input(\"Enter an item code available (e.g., A2) or 'C' to Cancel: \").strip().upper()\n",
        "\n",
        "        if code == 'C':\n",
        "            print(\"Thank you for using this vending machine. Hope you have a great day :)!\")\n",
        "            break\n",
        "\n",
        "        if code not in menu:\n",
        "            print(\"Incorrect code. Please enter a listed item code available.\")\n",
        "            continue\n",
        "\n",
        "        item_info = menu[code]\n",
        "        item_price = item_info['price']\n",
        "\n",
        "        # Take user input for money\n",
        "        while True:\n",
        "            try:\n",
        "                user_money = float(input(f\"Please insert AED{item_price:.2f}: \"))\n",
        "                if user_money < item_price:\n",
        "                    print(\"Not enough money. Please add more.\")\n",
        "                else:\n",
        "                    change = user_money - item_price\n",
        "                    print(f\"Dispensing {item_info['item']}...\")\n",
        "                    print(f\"Change: AED{change:.2f}\")\n",
        "                    break\n",
        "            except ValueError:\n",
        "                print(\"Incorrect input. Please enter a valid currency.\")\n",
        "\n",
        "\n",
        "# Main program loop\n",
        "if __name__ == \"__main__\":\n",
        "    vending_machine()"
      ]
    }
  ]
}